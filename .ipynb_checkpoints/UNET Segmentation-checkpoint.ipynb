{
 "cells": [
  {
   "cell_type": "markdown",
   "metadata": {},
   "source": [
    "This notebook is heavily inspired from\n",
    "\n",
    "https://towardsdatascience.com/understanding-semantic-segmentation-with-unet-6be4f42d4b47\n",
    "\n",
    "A huge thanks to <a src=\"https://medium.com/@harshall.lamba\">harshall.lamba</a> for his article.\n",
    "\n",
    "\n",
    "I simply tried first by myself looking at theorical architecture and compared it to the article"
   ]
  },
  {
   "cell_type": "code",
   "execution_count": 160,
   "metadata": {},
   "outputs": [],
   "source": [
    "import tensorflow as tf\n",
    "from tensorflow.keras import layers, models\n",
    "from tensorflow.keras.callbacks import EarlyStopping, ModelCheckpoint, ReduceLROnPlateau\n",
    "\n",
    "from tensorflow.keras.utils import plot_model\n",
    "from sklearn.model_selection import train_test_split\n",
    "\n",
    "from skimage.transform import resize\n",
    "\n",
    "import pandas as pd\n",
    "import matplotlib.pyplot as plt\n",
    "import os\n",
    "import numpy as np\n",
    "\n",
    "import progressbar"
   ]
  },
  {
   "cell_type": "code",
   "execution_count": 169,
   "metadata": {},
   "outputs": [],
   "source": [
    "def load_images(path,limit=-1):\n",
    "    imgs = []\n",
    "    ids = next(os.walk(path))[2]\n",
    "    size = limit if limit != -1 else len(ids)\n",
    "    print(\"Loading {} images out of {}.\".format(size,len(ids)))\n",
    "    \n",
    "    for i in range(size):\n",
    "        img = plt.imread(path+ids[i])\n",
    "        img = resize(img,(128,128,1),mode=\"constant\",preserve_range=True)\n",
    "        imgs.append(img/255)\n",
    "        #bar.update(i)\n",
    "    return np.array(imgs)"
   ]
  },
  {
   "cell_type": "code",
   "execution_count": 203,
   "metadata": {},
   "outputs": [
    {
     "name": "stdout",
     "output_type": "stream",
     "text": [
      "Loading 100 images out of 4000.\n",
      "Loading 100 images out of 4000.\n"
     ]
    }
   ],
   "source": [
    "# img can be found at : https://www.kaggle.com/c/tgs-salt-identification-challenge/data?select=train.zip\n",
    "image_path = \"../TGSALT/images/\"\n",
    "mask_path = \"../TGSALT/masks/\"\n",
    "\n",
    "X = load_images(image_path,100)\n",
    "Y = load_images(mask_path,100)"
   ]
  },
  {
   "cell_type": "code",
   "execution_count": 4,
   "metadata": {},
   "outputs": [
    {
     "ename": "TypeError",
     "evalue": "Invalid shape (128, 128, 1) for image data",
     "output_type": "error",
     "traceback": [
      "\u001b[1;31m---------------------------------------------------------------------------\u001b[0m",
      "\u001b[1;31mTypeError\u001b[0m                                 Traceback (most recent call last)",
      "\u001b[1;32m<ipython-input-4-c5ebfe5487b1>\u001b[0m in \u001b[0;36m<module>\u001b[1;34m\u001b[0m\n\u001b[0;32m      5\u001b[0m \u001b[1;32mfor\u001b[0m \u001b[0mi\u001b[0m \u001b[1;32min\u001b[0m \u001b[0mrange\u001b[0m\u001b[1;33m(\u001b[0m\u001b[0mimg_to_show\u001b[0m\u001b[1;33m)\u001b[0m\u001b[1;33m:\u001b[0m\u001b[1;33m\u001b[0m\u001b[1;33m\u001b[0m\u001b[0m\n\u001b[0;32m      6\u001b[0m     \u001b[0mplt\u001b[0m\u001b[1;33m.\u001b[0m\u001b[0msubplot\u001b[0m\u001b[1;33m(\u001b[0m\u001b[1;36m1\u001b[0m\u001b[1;33m,\u001b[0m\u001b[0mimg_to_show\u001b[0m\u001b[1;33m,\u001b[0m\u001b[0mi\u001b[0m\u001b[1;33m+\u001b[0m\u001b[1;36m1\u001b[0m\u001b[1;33m)\u001b[0m\u001b[1;33m\u001b[0m\u001b[1;33m\u001b[0m\u001b[0m\n\u001b[1;32m----> 7\u001b[1;33m     \u001b[0mplt\u001b[0m\u001b[1;33m.\u001b[0m\u001b[0mimshow\u001b[0m\u001b[1;33m(\u001b[0m\u001b[0mX\u001b[0m\u001b[1;33m[\u001b[0m\u001b[0mi\u001b[0m\u001b[1;33m]\u001b[0m\u001b[1;33m)\u001b[0m\u001b[1;33m\u001b[0m\u001b[1;33m\u001b[0m\u001b[0m\n\u001b[0m\u001b[0;32m      8\u001b[0m \u001b[1;33m\u001b[0m\u001b[0m\n\u001b[0;32m      9\u001b[0m \u001b[0mplt\u001b[0m\u001b[1;33m.\u001b[0m\u001b[0mshow\u001b[0m\u001b[1;33m(\u001b[0m\u001b[1;33m)\u001b[0m\u001b[1;33m\u001b[0m\u001b[1;33m\u001b[0m\u001b[0m\n",
      "\u001b[1;32mD:\\Programme\\Anaconda\\lib\\site-packages\\matplotlib\\pyplot.py\u001b[0m in \u001b[0;36mimshow\u001b[1;34m(X, cmap, norm, aspect, interpolation, alpha, vmin, vmax, origin, extent, shape, filternorm, filterrad, imlim, resample, url, data, **kwargs)\u001b[0m\n\u001b[0;32m   2643\u001b[0m         \u001b[0mfilterrad\u001b[0m\u001b[1;33m=\u001b[0m\u001b[1;36m4.0\u001b[0m\u001b[1;33m,\u001b[0m \u001b[0mimlim\u001b[0m\u001b[1;33m=\u001b[0m\u001b[0mcbook\u001b[0m\u001b[1;33m.\u001b[0m\u001b[0mdeprecation\u001b[0m\u001b[1;33m.\u001b[0m\u001b[0m_deprecated_parameter\u001b[0m\u001b[1;33m,\u001b[0m\u001b[1;33m\u001b[0m\u001b[1;33m\u001b[0m\u001b[0m\n\u001b[0;32m   2644\u001b[0m         resample=None, url=None, *, data=None, **kwargs):\n\u001b[1;32m-> 2645\u001b[1;33m     __ret = gca().imshow(\n\u001b[0m\u001b[0;32m   2646\u001b[0m         \u001b[0mX\u001b[0m\u001b[1;33m,\u001b[0m \u001b[0mcmap\u001b[0m\u001b[1;33m=\u001b[0m\u001b[0mcmap\u001b[0m\u001b[1;33m,\u001b[0m \u001b[0mnorm\u001b[0m\u001b[1;33m=\u001b[0m\u001b[0mnorm\u001b[0m\u001b[1;33m,\u001b[0m \u001b[0maspect\u001b[0m\u001b[1;33m=\u001b[0m\u001b[0maspect\u001b[0m\u001b[1;33m,\u001b[0m\u001b[1;33m\u001b[0m\u001b[1;33m\u001b[0m\u001b[0m\n\u001b[0;32m   2647\u001b[0m         \u001b[0minterpolation\u001b[0m\u001b[1;33m=\u001b[0m\u001b[0minterpolation\u001b[0m\u001b[1;33m,\u001b[0m \u001b[0malpha\u001b[0m\u001b[1;33m=\u001b[0m\u001b[0malpha\u001b[0m\u001b[1;33m,\u001b[0m \u001b[0mvmin\u001b[0m\u001b[1;33m=\u001b[0m\u001b[0mvmin\u001b[0m\u001b[1;33m,\u001b[0m\u001b[1;33m\u001b[0m\u001b[1;33m\u001b[0m\u001b[0m\n",
      "\u001b[1;32mD:\\Programme\\Anaconda\\lib\\site-packages\\matplotlib\\__init__.py\u001b[0m in \u001b[0;36minner\u001b[1;34m(ax, data, *args, **kwargs)\u001b[0m\n\u001b[0;32m   1563\u001b[0m     \u001b[1;32mdef\u001b[0m \u001b[0minner\u001b[0m\u001b[1;33m(\u001b[0m\u001b[0max\u001b[0m\u001b[1;33m,\u001b[0m \u001b[1;33m*\u001b[0m\u001b[0margs\u001b[0m\u001b[1;33m,\u001b[0m \u001b[0mdata\u001b[0m\u001b[1;33m=\u001b[0m\u001b[1;32mNone\u001b[0m\u001b[1;33m,\u001b[0m \u001b[1;33m**\u001b[0m\u001b[0mkwargs\u001b[0m\u001b[1;33m)\u001b[0m\u001b[1;33m:\u001b[0m\u001b[1;33m\u001b[0m\u001b[1;33m\u001b[0m\u001b[0m\n\u001b[0;32m   1564\u001b[0m         \u001b[1;32mif\u001b[0m \u001b[0mdata\u001b[0m \u001b[1;32mis\u001b[0m \u001b[1;32mNone\u001b[0m\u001b[1;33m:\u001b[0m\u001b[1;33m\u001b[0m\u001b[1;33m\u001b[0m\u001b[0m\n\u001b[1;32m-> 1565\u001b[1;33m             \u001b[1;32mreturn\u001b[0m \u001b[0mfunc\u001b[0m\u001b[1;33m(\u001b[0m\u001b[0max\u001b[0m\u001b[1;33m,\u001b[0m \u001b[1;33m*\u001b[0m\u001b[0mmap\u001b[0m\u001b[1;33m(\u001b[0m\u001b[0msanitize_sequence\u001b[0m\u001b[1;33m,\u001b[0m \u001b[0margs\u001b[0m\u001b[1;33m)\u001b[0m\u001b[1;33m,\u001b[0m \u001b[1;33m**\u001b[0m\u001b[0mkwargs\u001b[0m\u001b[1;33m)\u001b[0m\u001b[1;33m\u001b[0m\u001b[1;33m\u001b[0m\u001b[0m\n\u001b[0m\u001b[0;32m   1566\u001b[0m \u001b[1;33m\u001b[0m\u001b[0m\n\u001b[0;32m   1567\u001b[0m         \u001b[0mbound\u001b[0m \u001b[1;33m=\u001b[0m \u001b[0mnew_sig\u001b[0m\u001b[1;33m.\u001b[0m\u001b[0mbind\u001b[0m\u001b[1;33m(\u001b[0m\u001b[0max\u001b[0m\u001b[1;33m,\u001b[0m \u001b[1;33m*\u001b[0m\u001b[0margs\u001b[0m\u001b[1;33m,\u001b[0m \u001b[1;33m**\u001b[0m\u001b[0mkwargs\u001b[0m\u001b[1;33m)\u001b[0m\u001b[1;33m\u001b[0m\u001b[1;33m\u001b[0m\u001b[0m\n",
      "\u001b[1;32mD:\\Programme\\Anaconda\\lib\\site-packages\\matplotlib\\cbook\\deprecation.py\u001b[0m in \u001b[0;36mwrapper\u001b[1;34m(*args, **kwargs)\u001b[0m\n\u001b[0;32m    356\u001b[0m                 \u001b[1;34mf\"%(removal)s.  If any parameter follows {name!r}, they \"\u001b[0m\u001b[1;33m\u001b[0m\u001b[1;33m\u001b[0m\u001b[0m\n\u001b[0;32m    357\u001b[0m                 f\"should be pass as keyword, not positionally.\")\n\u001b[1;32m--> 358\u001b[1;33m         \u001b[1;32mreturn\u001b[0m \u001b[0mfunc\u001b[0m\u001b[1;33m(\u001b[0m\u001b[1;33m*\u001b[0m\u001b[0margs\u001b[0m\u001b[1;33m,\u001b[0m \u001b[1;33m**\u001b[0m\u001b[0mkwargs\u001b[0m\u001b[1;33m)\u001b[0m\u001b[1;33m\u001b[0m\u001b[1;33m\u001b[0m\u001b[0m\n\u001b[0m\u001b[0;32m    359\u001b[0m \u001b[1;33m\u001b[0m\u001b[0m\n\u001b[0;32m    360\u001b[0m     \u001b[1;32mreturn\u001b[0m \u001b[0mwrapper\u001b[0m\u001b[1;33m\u001b[0m\u001b[1;33m\u001b[0m\u001b[0m\n",
      "\u001b[1;32mD:\\Programme\\Anaconda\\lib\\site-packages\\matplotlib\\cbook\\deprecation.py\u001b[0m in \u001b[0;36mwrapper\u001b[1;34m(*args, **kwargs)\u001b[0m\n\u001b[0;32m    356\u001b[0m                 \u001b[1;34mf\"%(removal)s.  If any parameter follows {name!r}, they \"\u001b[0m\u001b[1;33m\u001b[0m\u001b[1;33m\u001b[0m\u001b[0m\n\u001b[0;32m    357\u001b[0m                 f\"should be pass as keyword, not positionally.\")\n\u001b[1;32m--> 358\u001b[1;33m         \u001b[1;32mreturn\u001b[0m \u001b[0mfunc\u001b[0m\u001b[1;33m(\u001b[0m\u001b[1;33m*\u001b[0m\u001b[0margs\u001b[0m\u001b[1;33m,\u001b[0m \u001b[1;33m**\u001b[0m\u001b[0mkwargs\u001b[0m\u001b[1;33m)\u001b[0m\u001b[1;33m\u001b[0m\u001b[1;33m\u001b[0m\u001b[0m\n\u001b[0m\u001b[0;32m    359\u001b[0m \u001b[1;33m\u001b[0m\u001b[0m\n\u001b[0;32m    360\u001b[0m     \u001b[1;32mreturn\u001b[0m \u001b[0mwrapper\u001b[0m\u001b[1;33m\u001b[0m\u001b[1;33m\u001b[0m\u001b[0m\n",
      "\u001b[1;32mD:\\Programme\\Anaconda\\lib\\site-packages\\matplotlib\\axes\\_axes.py\u001b[0m in \u001b[0;36mimshow\u001b[1;34m(self, X, cmap, norm, aspect, interpolation, alpha, vmin, vmax, origin, extent, shape, filternorm, filterrad, imlim, resample, url, **kwargs)\u001b[0m\n\u001b[0;32m   5624\u001b[0m                               resample=resample, **kwargs)\n\u001b[0;32m   5625\u001b[0m \u001b[1;33m\u001b[0m\u001b[0m\n\u001b[1;32m-> 5626\u001b[1;33m         \u001b[0mim\u001b[0m\u001b[1;33m.\u001b[0m\u001b[0mset_data\u001b[0m\u001b[1;33m(\u001b[0m\u001b[0mX\u001b[0m\u001b[1;33m)\u001b[0m\u001b[1;33m\u001b[0m\u001b[1;33m\u001b[0m\u001b[0m\n\u001b[0m\u001b[0;32m   5627\u001b[0m         \u001b[0mim\u001b[0m\u001b[1;33m.\u001b[0m\u001b[0mset_alpha\u001b[0m\u001b[1;33m(\u001b[0m\u001b[0malpha\u001b[0m\u001b[1;33m)\u001b[0m\u001b[1;33m\u001b[0m\u001b[1;33m\u001b[0m\u001b[0m\n\u001b[0;32m   5628\u001b[0m         \u001b[1;32mif\u001b[0m \u001b[0mim\u001b[0m\u001b[1;33m.\u001b[0m\u001b[0mget_clip_path\u001b[0m\u001b[1;33m(\u001b[0m\u001b[1;33m)\u001b[0m \u001b[1;32mis\u001b[0m \u001b[1;32mNone\u001b[0m\u001b[1;33m:\u001b[0m\u001b[1;33m\u001b[0m\u001b[1;33m\u001b[0m\u001b[0m\n",
      "\u001b[1;32mD:\\Programme\\Anaconda\\lib\\site-packages\\matplotlib\\image.py\u001b[0m in \u001b[0;36mset_data\u001b[1;34m(self, A)\u001b[0m\n\u001b[0;32m    696\u001b[0m         if not (self._A.ndim == 2\n\u001b[0;32m    697\u001b[0m                 or self._A.ndim == 3 and self._A.shape[-1] in [3, 4]):\n\u001b[1;32m--> 698\u001b[1;33m             raise TypeError(\"Invalid shape {} for image data\"\n\u001b[0m\u001b[0;32m    699\u001b[0m                             .format(self._A.shape))\n\u001b[0;32m    700\u001b[0m \u001b[1;33m\u001b[0m\u001b[0m\n",
      "\u001b[1;31mTypeError\u001b[0m: Invalid shape (128, 128, 1) for image data"
     ]
    },
    {
     "data": {
      "image/png": "[encoded data removed]",
      "text/plain": [
       "<Figure size 1440x1440 with 1 Axes>"
      ]
     },
     "metadata": {
      "needs_background": "light"
     },
     "output_type": "display_data"
    }
   ],
   "source": [
    "#visualizing data\n",
    "plt.figure(figsize=(20,20))\n",
    "img_to_show = 5\n",
    "\n",
    "for i in range(img_to_show):\n",
    "    plt.subplot(1,img_to_show,i+1)\n",
    "    plt.imshow(X[i])\n",
    "    \n",
    "plt.show() \n",
    "plt.figure(figsize=(20,20))\n",
    "for i in range(img_to_show):\n",
    "    plt.subplot(1,img_to_show,i+1)\n",
    "    plt.imshow(Y[i])\n"
   ]
  },
  {
   "cell_type": "markdown",
   "metadata": {},
   "source": [
    "Unet architecture we aim to replicate:\n",
    "<img src=\"images/unetDetailed.jpeg\">"
   ]
  },
  {
   "cell_type": "code",
   "execution_count": 178,
   "metadata": {},
   "outputs": [],
   "source": [
    "# In this architecture convolutions are by blocks of 2\n",
    "def doubleConv(inputLayer,n_filters=16,kernel_size=3,stride=1,padding=\"same\",batchnorm=True):\n",
    "    x = layers.Conv2D(\n",
    "        n_filters,\n",
    "        (kernel_size,kernel_size),\n",
    "        activation='relu',\n",
    "        strides = (stride,stride),\n",
    "        padding=\"same\")(inputLayer)\n",
    "    if batchnorm:\n",
    "        x = layers.BatchNormalization()(x)\n",
    "    x = layers.Conv2D(\n",
    "        n_filters,\n",
    "        (kernel_size,kernel_size),\n",
    "        activation='relu',\n",
    "        strides = (stride,stride),\n",
    "        padding=\"same\")(x)\n",
    "    if batchnorm:\n",
    "        x = layers.BatchNormalization()(x)\n",
    "        \n",
    "    return x"
   ]
  },
  {
   "cell_type": "code",
   "execution_count": 228,
   "metadata": {},
   "outputs": [],
   "source": [
    "#building model\n",
    "class Unet:\n",
    "    # In this architecture convolutions are by blocks of 2\n",
    "    def doubleConv(self,inputLayer,n_filters=16,kernel_size=3,stride=1,padding=\"same\",batchnorm=True):\n",
    "        x = layers.Conv2D(\n",
    "            n_filters,\n",
    "            (kernel_size,kernel_size),\n",
    "            activation='relu',\n",
    "            strides = (stride,stride),\n",
    "            padding=\"same\")(inputLayer)\n",
    "        if batchnorm:\n",
    "            x = layers.BatchNormalization()(x)\n",
    "        x = layers.Conv2D(\n",
    "            n_filters,\n",
    "            (kernel_size,kernel_size),\n",
    "            activation='relu',\n",
    "            strides = (stride,stride),\n",
    "            padding=\"same\")(x)\n",
    "        if batchnorm:\n",
    "            x = layers.BatchNormalization()(x)\n",
    "        return x\n",
    "    \n",
    "    def __init__(self,input_size,filter_size=16,step_size=5):\n",
    "        input_img = tf.keras.Input((input_size,input_size,1),name=\"img\")\n",
    "        self.model = self.getModel(input_img)\n",
    "        self.compileModel()\n",
    "        \n",
    "    def compileModel(self):\n",
    "        print(\"Compiling model...\")\n",
    "        self.model.compile(\n",
    "            optimizer=\"adam\",\n",
    "            loss=\"binary_crossentropy\",\n",
    "            #run_eagerly=True\n",
    "            metrics=[\"accuracy\"]\n",
    "        )\n",
    "        #self.model.summary()\n",
    "        print(\"Compilation done. The model can now be trained.\")\n",
    "        \n",
    "    def train(self,X_train,Y_train,X_test,Y_test,epochs=5,batch_size=32):\n",
    "        self.results = model.fit(\n",
    "            X_train,Y_train,\n",
    "            epochs=epochs,\n",
    "            batch_size=batch_size,\n",
    "            validation_data=(X_test,Y_test)\n",
    "        )\n",
    "        return self.results\n",
    "    \n",
    "    def plotLearningCurve(self):\n",
    "        #code from @hlamba28 /UNET-TGS \n",
    "        plt.figure(figsize=(8, 8))\n",
    "        plt.title(\"Learning curve\")\n",
    "        plt.plot(self.results.history[\"loss\"], label=\"loss\")\n",
    "        plt.plot(self.results.history[\"val_loss\"], label=\"val_loss\")\n",
    "        plt.plot( np.argmin(self.results.history[\"val_loss\"]), np.min(self.results.history[\"val_loss\"]), marker=\"x\", color=\"r\", label=\"best model\")\n",
    "        plt.xlabel(\"Epochs\")\n",
    "        plt.ylabel(\"log_loss\")\n",
    "        plt.legend();\n",
    "        \n",
    "    def getModel(self,input_shape,filter_size=16,step_size=5):\n",
    "        convs = []\n",
    "        pool = []\n",
    "        conv_debug = []\n",
    "        encoding_steps = [2**i for i in range(step_size)]\n",
    "        print(\"Generating model with 2@{} convultional layers\".format(step_size))\n",
    "        last_tensor = input_img\n",
    "\n",
    "        #encoder\n",
    "        for i in range(len(encoding_steps)):\n",
    "            #print(\"c{} : doubleConv {}\".format(i,filter_size*encoding_steps[i]))\n",
    "            c = self.doubleConv(last_tensor,n_filters = filter_size*encoding_steps[i],kernel_size = 3)\n",
    "\n",
    "            if i != len(encoding_steps)-1:\n",
    "                convs.append(c)\n",
    "                conv_debug.append(\"c\"+str(i+1))\n",
    "                last_tensor = layers.MaxPooling2D(pool_size=(2,2),strides=(2,2))(c)\n",
    "            else:\n",
    "                last_tensor = c\n",
    "\n",
    "        decoding_steps = encoding_steps[:len(encoding_steps)-1]\n",
    "        decoding_steps.reverse()\n",
    "        size_i = i+1\n",
    "        #decoder\n",
    "        for i in range(len(decoding_steps)):\n",
    "            #print(\"{} ----- u{}\".format(conv_debug[len(conv_debug)-(i+1)],i+1+size_i))\n",
    "\n",
    "            u = layers.Conv2DTranspose(filter_size * decoding_steps[i],(3,3),strides = (2,2),padding=\"same\")(last_tensor)\n",
    "            #print(\"    - Before concat\")\n",
    "            #print(\"     {} | {}\".format(u.shape,convs[len(convs)-(i+1)].shape))\n",
    "            u = tf.keras.layers.Concatenate()([u,convs[len(convs)-(i+1)]])\n",
    "            #print(\"    - After concat\")\n",
    "            #print(\"     {} | {}\".format(u.shape,convs[len(convs)-(i+1)].shape))\n",
    "            last_tensor = doubleConv(u,filter_size * decoding_steps[i],3)\n",
    "\n",
    "        outputs = layers.Conv2D(1,(1,1),activation=\"sigmoid\")(last_tensor)\n",
    "        \n",
    "        print(\"Model generated\")\n",
    "        return models.Model(inputs=[input_img],outputs=[outputs])"
   ]
  },
  {
   "cell_type": "code",
   "execution_count": 223,
   "metadata": {},
   "outputs": [
    {
     "data": {
      "text/plain": [
       "(90, 128, 128, 1)"
      ]
     },
     "execution_count": 223,
     "metadata": {},
     "output_type": "execute_result"
    }
   ],
   "source": [
    "X_train.shape"
   ]
  },
  {
   "cell_type": "code",
   "execution_count": 229,
   "metadata": {},
   "outputs": [
    {
     "name": "stdout",
     "output_type": "stream",
     "text": [
      "Train size: 90\n",
      "Test size: 10\n"
     ]
    }
   ],
   "source": [
    "X_train, X_test, Y_train, Y_valid = train_test_split(X,Y,test_size=0.1,random_state=42)\n",
    "print(\"Train size: {}\".format(len(X_train)))\n",
    "print(\"Test size: {}\".format(len(X_test)))"
   ]
  },
  {
   "cell_type": "code",
   "execution_count": 230,
   "metadata": {},
   "outputs": [
    {
     "name": "stdout",
     "output_type": "stream",
     "text": [
      "Generating model with 2@5 convultional layers\n",
      "Model generated\n",
      "Compiling model...\n",
      "Compilation done. The model can now be trained.\n",
      "Epoch 1/5\n",
      "3/3 [==============================] - 4s 1s/step - loss: 0.0467 - accuracy: 0.7901 - val_loss: 0.0465 - val_accuracy: 0.7279\n",
      "Epoch 2/5\n",
      "3/3 [==============================] - 4s 1s/step - loss: 0.0460 - accuracy: 0.7901 - val_loss: 0.0461 - val_accuracy: 0.7279\n",
      "Epoch 3/5\n",
      "3/3 [==============================] - 4s 1s/step - loss: 0.0453 - accuracy: 0.7901 - val_loss: 0.0453 - val_accuracy: 0.7279\n",
      "Epoch 4/5\n",
      "3/3 [==============================] - 4s 1s/step - loss: 0.0446 - accuracy: 0.7901 - val_loss: 0.0443 - val_accuracy: 0.7279\n",
      "Epoch 5/5\n",
      "3/3 [==============================] - 4s 1s/step - loss: 0.0439 - accuracy: 0.7901 - val_loss: 0.0438 - val_accuracy: 0.7279\n"
     ]
    },
    {
     "data": {
      "text/plain": [
       "<tensorflow.python.keras.callbacks.History at 0x1fb92f7a970>"
      ]
     },
     "execution_count": 230,
     "metadata": {},
     "output_type": "execute_result"
    }
   ],
   "source": [
    "unet = Unet(128)\n",
    "unet.train(X_train,Y_train,X_test,Y_valid,5, 32)"
   ]
  },
  {
   "cell_type": "code",
   "execution_count": 221,
   "metadata": {},
   "outputs": [
    {
     "data": {
      "image/png": "[encoded data removed]",
      "text/plain": [
       "<Figure size 576x576 with 1 Axes>"
      ]
     },
     "metadata": {
      "needs_background": "light"
     },
     "output_type": "display_data"
    }
   ],
   "source": [
    "unet.plotLearningCurve()"
   ]
  }
 ],
 "metadata": {
  "kernelspec": {
   "display_name": "Python 3",
   "language": "python",
   "name": "python3"
  },
  "language_info": {
   "codemirror_mode": {
    "name": "ipython",
    "version": 3
   },
   "file_extension": ".py",
   "mimetype": "text/x-python",
   "name": "python",
   "nbconvert_exporter": "python",
   "pygments_lexer": "ipython3",
   "version": "3.8.3"
  }
 },
 "nbformat": 4,
 "nbformat_minor": 4
}
